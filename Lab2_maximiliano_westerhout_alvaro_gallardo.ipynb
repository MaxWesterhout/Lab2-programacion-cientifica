{
  "cells": [
    {
      "cell_type": "markdown",
      "metadata": {
        "id": "cd7b1b55"
      },
      "source": [
        "<h1><center>Laboratorio 2: Primeros pasos 👣</center></h1>\n",
        "\n",
        "<center><strong>MDS7202: Laboratorio de Programación Científica para Ciencia de Datos - Primavera 2023</strong></center>"
      ]
    },
    {
      "cell_type": "markdown",
      "metadata": {
        "id": "Vp_vOHK7V97e"
      },
      "source": [
        "### Cuerpo Docente:\n",
        "\n",
        "- Profesores: Ignacio Meza, Gabriel Iturra\n",
        "- Auxiliar: Sebastián Tinoco\n",
        "- Ayudante: Arturo Lazcano, Angelo Muñoz"
      ]
    },
    {
      "cell_type": "markdown",
      "metadata": {
        "id": "4N_5AYgyWKyA"
      },
      "source": [
        "### Equipo: SUPER IMPORTANTE - notebooks sin nombre no serán revisados\n",
        "\n",
        "- Nombre de alumno 1: Álvaro Gallardo\n",
        "- Nombre de alumno 2: Maximiliano Westerhout\n"
      ]
    },
    {
      "cell_type": "markdown",
      "metadata": {
        "id": "1rjlaJDEWxd9"
      },
      "source": [
        "### **Link de repositorio de GitHub:** `http://....`"
      ]
    },
    {
      "cell_type": "markdown",
      "metadata": {
        "id": "9el9ERaKWW3i"
      },
      "source": [
        "## Reglas:\n",
        "\n",
        "- Fecha de entrega: 6 días desde la publicación, 3 días de atraso con 1 punto de descuento c/u. Pueden utilizar días bonus sin descuento.\n",
        "- **Grupos de 2 personas**\n",
        "- Asistencia **obligatoria** a instrucciones del lab (viernes 16.15). Luego, pueden quedarse trabajando en las salas o irse.\n",
        "- **Ausentes tienen nota máxima 6.0**.\n",
        "- Cualquier duda fuera del horario de clases al foro. Mensajes al equipo docente serán respondidos por este medio.\n",
        "- Prohibidas las copias.\n",
        "- Pueden usar cualquer material del curso que estimen conveniente."
      ]
    },
    {
      "cell_type": "markdown",
      "metadata": {
        "id": "4708b9b7"
      },
      "source": [
        "\n",
        "## Objetivos del lab:\n",
        "\n",
        "Poner en práctica los tópicos básicos del lenguaje de programación Python vistos en clases.\n",
        "\n",
        "- Variables, Operadores y Expresiones.\n",
        "- Estructuras de Control (if/else).\n",
        "- Iteraciones.\n",
        "- Listas y Diccionarios.\n",
        "- Funciones\n",
        "- Programación Orientada a Objetos (Encapsulamiento, Polimorfismo y Herencia)"
      ]
    },
    {
      "cell_type": "markdown",
      "metadata": {
        "id": "d58b089c"
      },
      "source": [
        "## Parte 1: 🍋 Frutas 🍓 [2.5 puntos]\n",
        "\n",
        "\n",
        "<div align='center'>\n",
        "<img src='https://upload.wikimedia.org/wikipedia/commons/a/a2/Berries_in_Berlin.jpg' width=600/>\n",
        "</div>"
      ]
    },
    {
      "cell_type": "markdown",
      "metadata": {
        "id": "5fdf6b19"
      },
      "source": [
        "Defina las siguientes frutas como diccionarios a partir de sus características (nombre, color, tipo y si posee o no pepas):\n",
        "\n",
        "| Nombre    | Tipo     | Color    | Pepas |\n",
        "|-----------|----------|----------|-------|\n",
        "| limon     | cítrica  | amarillo | True  |\n",
        "| naranja   | cítrica  | naranjo  | True  |\n",
        "| plátano   | tropical | amarillo | False |\n",
        "| piña      | tropical | amarillo | False |\n",
        "| frutilla  | bosque   | rojo     | True |\n",
        "| frambuesa | bosque   | rojo     | True |"
      ]
    },
    {
      "cell_type": "markdown",
      "metadata": {
        "id": "33aed47b"
      },
      "source": [
        "### Estructurar Datos [0.5 puntos]\n",
        "\n",
        "Agregue Piña, Frutilla y Frambuesa como diccionarios (siga los ejemplos de las frutas dadas) y luego cree una lista que contenga estas frutas.\n"
      ]
    },
    {
      "cell_type": "code",
      "execution_count": null,
      "metadata": {
        "id": "26d23e26"
      },
      "outputs": [],
      "source": [
        "limon = {\n",
        "    \"nombre\": \"limón\",\n",
        "    \"tipo\": \"cítrica\",\n",
        "    \"color\": \"amarillo\",\n",
        "    \"pepas\": True\n",
        "    }\n",
        "\n",
        "naranja = {\"nombre\": \"naranja\",\n",
        "           \"tipo\": \"cítrica\",\n",
        "           \"color\": \"naranjo\",\n",
        "           \"pepas\": True\n",
        "          }\n",
        "\n",
        "platano = {\"nombre\": \"plátano\",\n",
        "           \"tipo\": \"tropical\",\n",
        "           \"color\": \"amarillo\",\n",
        "           \"pepas\": False\n",
        "          }\n",
        "\n",
        "# agregar las frutas que faltan aquí\n",
        "\n",
        "piña = {\"nombre\": \"piña\",\n",
        "           \"tipo\": \"tropical\",\n",
        "           \"color\": \"amarillo\",\n",
        "           \"pepas\": False\n",
        "          }\n",
        "\n",
        "frutilla = {\"nombre\": \"frutilla\",\n",
        "           \"tipo\": \"bosque\",\n",
        "           \"color\": \"rojo\",\n",
        "           \"pepas\": True\n",
        "          }\n",
        "\n",
        "frambuesa = {\"nombre\": \"frambuesa\",\n",
        "           \"tipo\": \"bosque\",\n",
        "           \"color\": \"rojo\",\n",
        "           \"pepas\": True\n",
        "          }"
      ]
    },
    {
      "cell_type": "markdown",
      "metadata": {
        "id": "259ee333"
      },
      "source": [
        "Ahora, agregue todas las frutas a una lista."
      ]
    },
    {
      "cell_type": "code",
      "execution_count": null,
      "metadata": {
        "id": "fcf62186"
      },
      "outputs": [],
      "source": [
        "# Ojo: agregue los datos en el mismo orden que aparecen en la tabla\n",
        "datos = [limon, naranja, platano, piña, frutilla, frambuesa]"
      ]
    },
    {
      "cell_type": "markdown",
      "metadata": {
        "id": "2ed7730e"
      },
      "source": [
        "Esta lista será la información con la que se trabajará durante el lab."
      ]
    },
    {
      "cell_type": "markdown",
      "metadata": {
        "id": "e9b1e46d"
      },
      "source": [
        "### Funciones Aplicadas a los Datos [2.0 puntos]\n",
        "\n",
        "En esta sección se les pide generar una serie de funciones que cumplan diferentes propósitos. Un aspecto clave de la programación funcional es la apropiada **documentación** de lo que ustedes generen. Si bien existen diferentes formas de documentar código, una de las mas usadas es el formato docstring de `numpy`:\n",
        "\n",
        "```python\n",
        "# manual para describir:\n",
        "# https://numpydoc.readthedocs.io/en/latest/format.html\n",
        "\n",
        "# plantilla (agregar todos los argumentos que sean necesarios)\n",
        "# pensar _type_ como los tipos básicos que hemos visto hasta ahora: int, float, string, list, dict, tuple, set, etc...\n",
        "\n",
        "def funcion_generica(arg1, arg2):\n",
        "    \"\"\"_summary_\n",
        "\n",
        "    Parameters\n",
        "    ----------\n",
        "    arg1 : _type_\n",
        "        _description_\n",
        "    arg2 : _type_\n",
        "        _description_\n",
        "\n",
        "    Returns\n",
        "    -------\n",
        "    _type_\n",
        "        _description_\n",
        "    \"\"\"\n",
        "    return ...\n",
        "```\n"
      ]
    },
    {
      "cell_type": "markdown",
      "metadata": {
        "id": "D4rJLJQNtcQU"
      },
      "source": [
        "Considerando esto y **sin olvidar la documentación**, se les pide generar las siguientes funciones:\n",
        "\n",
        "**1. La función `generar_descripcion(fruta)` que reciba una fruta genere una descripción de la fruta de la siguiente manera:**\n",
        "\n",
        "```{El/La} {...} es una fruta de tipo {...} de color {...}. {Presenta/No presenta} pepas en su interior.```\n",
        "    \n",
        "Por ejemplo, `generar_descripcion(plátano)` debe generar el siguiente string:\n",
        "    \n",
        "```\n",
        "'El plátano es una fruta de tipo tropical de color amarillo. No presenta pepas en su interior.'\n",
        "```\n",
        "    \n",
        "Indicaciones:\n",
        "- Usen formateo o suma de strings, if, else y for.\n",
        "- Para saber si ocupar 'El' o 'La', pueden acceder al nombre de la fruta y ver cual es el último carácter a través de indexadores `string[indice]`.\n",
        "- Utilice los siguientes test para corroborar el funcionamiento de su código:\n",
        "\n",
        "```python\n",
        "assert generar_descripcion(limon) == \"El limón es una fruta de tipo cítrica de color amarillo. Presenta pepas en su interior.\"\n",
        "assert generar_descripcion(naranja) == \"La naranja es una fruta de tipo cítrica de color naranjo. Presenta pepas en su interior.\"\n",
        "assert generar_descripcion(platano) == \"El plátano es una fruta de tipo tropical de color amarillo. No presenta pepas en su interior.\"\n",
        "assert generar_descripcion(piña) == \"La piña es una fruta de tipo tropical de color amarillo. No presenta pepas en su interior.\"\n",
        "assert generar_descripcion(frutilla) == \"La frutilla es una fruta de tipo bosque de color rojo. Presenta pepas en su interior.\"\n",
        "assert generar_descripcion(frambuesa) == \"La frambuesa es una fruta de tipo bosque de color rojo. Presenta pepas en su interior.\"\n",
        "```"
      ]
    },
    {
      "cell_type": "code",
      "execution_count": null,
      "metadata": {
        "id": "0G5xFYgKtcQU"
      },
      "outputs": [],
      "source": [
        "def generar_descripcion(fruta):\n",
        "    # Documentación Aquí\n",
        "    \"\"\"\n",
        "    Summary\n",
        "    Es una funcion que genera una descripcion de la fruta colocada\n",
        "\n",
        "    Parameters\n",
        "    ----------\n",
        "    fruta: Diccionario (tipo), Corresponde un diccionario de cuatro llaves\n",
        "    correspondiente a las caracteristicas de la fruta en cuestion. Estas llaves\n",
        "    contienen 3 valores de tipo string y la ultima de tipo booleano correspondiente\n",
        "    a posee pepas.\n",
        "\n",
        "    Returns\n",
        "    -------\n",
        "    Retorna un STRING, con la informacion de las llaves de la fruta en cuestion.\n",
        "    El contenido en completitud corresponde a la descripcion de la fruta.\n",
        "    \"\"\"\n",
        "    # Código Aquí\n",
        "    ultimo_caracter = fruta[\"nombre\"][-1]  # Obtenemos el último carácter de la fruta\n",
        "    if ultimo_caracter in ['a']:           # Si termina en a, tiene articulo \"La\"\n",
        "        articulo = 'La'\n",
        "        nombre = fruta[\"nombre\"]           #Distintos elementos del mensaje final\n",
        "        tipo = fruta[\"tipo\"]\n",
        "        color = fruta[\"color\"]\n",
        "        pepas = \"Presenta\" if fruta[\"pepas\"] else \"No presenta\"\n",
        "\n",
        "        descripcion = f\"{articulo} {nombre} es una fruta de tipo {tipo} de color {color}. {pepas} pepas en su interior.\" #Mensaje final para el caso \"La\"\n",
        "    else:\n",
        "        articulo = 'El'                   # Si termina en otra letra, tiene articulo \"El\"\n",
        "        nombre = fruta[\"nombre\"]\n",
        "        tipo = fruta[\"tipo\"]\n",
        "        color = fruta[\"color\"]\n",
        "        pepas = \"Presenta\" if fruta[\"pepas\"] else \"No presenta\"\n",
        "\n",
        "        descripcion = f\"{articulo} {nombre} es una fruta de tipo {tipo} de color {color}. {pepas} pepas en su interior.\" #Mensaje final para el caso \"El\"\n",
        "    return descripcion #Se retorna el mensaje final"
      ]
    },
    {
      "cell_type": "code",
      "execution_count": null,
      "metadata": {
        "id": "Aj4CYNagE7IX"
      },
      "outputs": [],
      "source": [
        "#Asserts de las distintas frutas\n",
        "assert generar_descripcion(limon) == \"El limón es una fruta de tipo cítrica de color amarillo. Presenta pepas en su interior.\"\n",
        "assert generar_descripcion(naranja) == \"La naranja es una fruta de tipo cítrica de color naranjo. Presenta pepas en su interior.\"\n",
        "assert generar_descripcion(platano) == \"El plátano es una fruta de tipo tropical de color amarillo. No presenta pepas en su interior.\"\n",
        "assert generar_descripcion(piña) == \"La piña es una fruta de tipo tropical de color amarillo. No presenta pepas en su interior.\"\n",
        "assert generar_descripcion(frutilla) == \"La frutilla es una fruta de tipo bosque de color rojo. Presenta pepas en su interior.\"\n",
        "assert generar_descripcion(frambuesa) == \"La frambuesa es una fruta de tipo bosque de color rojo. Presenta pepas en su interior.\""
      ]
    },
    {
      "cell_type": "markdown",
      "metadata": {
        "id": "jxeQ-HihtcQV"
      },
      "source": [
        "**2. La función `describir(datos)` que generalice la función `generar_descripcion` para recibir una lista de frutas y devolver una lista con las descripciones de cada una:**\n",
        "\n",
        "Por ejemplo, `describir([limon, naranja]])` deberá devolver una lista de la forma `[descripcion_limon, descripcion_naranja]`"
      ]
    },
    {
      "cell_type": "code",
      "execution_count": null,
      "metadata": {
        "id": "I8H8gD-YtcQV"
      },
      "outputs": [],
      "source": [
        "def describir(datos):\n",
        "    # Documentación Aquí\n",
        "    \"\"\"\n",
        "    Summary\n",
        "    Toma una lista de diccionarios y retorna una lista con la descripcion de dichos\n",
        "    diccionarios.\n",
        "\n",
        "    Parameters\n",
        "    ----------\n",
        "    datos: Lista, esta conformada por diccionarios. Cada elemento corresponde a\n",
        "    una fruta que posee informacion de sus respectivas caracteristicas presente\n",
        "    en cuatro llaves.Estas llaves contienen 3 valores de tipo string y la ultima\n",
        "    de tipo booleano correspondiente a posee pepas.\n",
        "\n",
        "    Returns\n",
        "    -------\n",
        "    Retorna una lista con la descripcion de cada fruta perteneciente a la lista\n",
        "    ingresada originalmente\n",
        "    \"\"\"\n",
        "    # Código Aquí\n",
        "    descripciones = [] #Creamos un vector vacio\n",
        "    for fruta in datos:\n",
        "      descripcion = generar_descripcion(fruta) #Obtenermos la descripcion de cada fruta\n",
        "      descripciones.append(descripcion)        #Rellenamos la lista\n",
        "    return descripciones"
      ]
    },
    {
      "cell_type": "code",
      "execution_count": null,
      "metadata": {
        "colab": {
          "base_uri": "https://localhost:8080/"
        },
        "id": "u4mTEDRbGUjA",
        "outputId": "16a9f112-7d94-418d-cb14-0dbed1ce8b74"
      },
      "outputs": [
        {
          "data": {
            "text/plain": [
              "['El limón es una fruta de tipo cítrica de color amarillo. Presenta pepas en su interior.',\n",
              " 'La naranja es una fruta de tipo cítrica de color naranjo. Presenta pepas en su interior.']"
            ]
          },
          "execution_count": 400,
          "metadata": {},
          "output_type": "execute_result"
        }
      ],
      "source": [
        "describir([limon, naranja])"
      ]
    },
    {
      "cell_type": "markdown",
      "metadata": {
        "id": "L9bxj61LtcQV"
      },
      "source": [
        "**3. La función `filtrar_por_pepa(datos, tiene_pepas)` que dado un tipo de fruta y un booleano, retorne las frutas que tienen o no tienen pepas (según el valor de `tiene_pepas`).**\n",
        "    \n",
        "\n",
        "Por ejemplo, `filtrar_por_pepa(datos, True)` deberá retornar una lista con los diccionarios de: naranja, limon, frutilla y frambuesa."
      ]
    },
    {
      "cell_type": "code",
      "execution_count": null,
      "metadata": {
        "id": "A8uXFsbztcQW"
      },
      "outputs": [],
      "source": [
        "def filtrar_por_pepa(datos, tiene_pepas):\n",
        "    # Documentación Aquí\n",
        "    \"\"\"\n",
        "    Summary\n",
        "    Toma una lista de diccionarios y un boleeano, verificando si la caracteristica\n",
        "    \"tiene pepas\" se cunple o no dependiendo del boleeano ingresado.\n",
        "\n",
        "    Parameters\n",
        "    ----------\n",
        "    datos: Lista, esta conformada por diccionarios. Cada elemento corresponde a\n",
        "    una fruta que posee informacion de sus respectivas caracteristicas.\n",
        "\n",
        "    tiene_pepas: Booleano, True implica que la fruta posee pepas y False el caso\n",
        "    contrario\n",
        "\n",
        "    Returns\n",
        "    -------\n",
        "    Retorna una lista con el nobre de las frutas que cumplen la condicion de\n",
        "    tener o no tener pepas\n",
        "    \"\"\"\n",
        "    # Código Aquí\n",
        "    filtrados = []    #Lista vacia\n",
        "    for fruta in datos:\n",
        "      if fruta[\"pepas\"] == tiene_pepas:   #Se verifica si tiene pepas o no tiene\n",
        "        filtrados.append(fruta[\"nombre\"]) #Se rellena la lista\n",
        "    return filtrados                      #Se retorna la lista"
      ]
    },
    {
      "cell_type": "code",
      "execution_count": null,
      "metadata": {
        "colab": {
          "base_uri": "https://localhost:8080/"
        },
        "id": "bPgdKWlDHnqy",
        "outputId": "bb4e9e38-6815-4354-cb29-ec2f5c658f40"
      },
      "outputs": [
        {
          "data": {
            "text/plain": [
              "['limón', 'naranja', 'frutilla', 'frambuesa']"
            ]
          },
          "execution_count": 9,
          "metadata": {},
          "output_type": "execute_result"
        }
      ],
      "source": [
        "filtrar_por_pepa(datos, True)"
      ]
    },
    {
      "cell_type": "code",
      "execution_count": null,
      "metadata": {
        "colab": {
          "base_uri": "https://localhost:8080/"
        },
        "id": "cCyexqn_HoLS",
        "outputId": "3626f88b-d6e2-44cb-a5a0-5505ec520cc9"
      },
      "outputs": [
        {
          "data": {
            "text/plain": [
              "['plátano', 'piña']"
            ]
          },
          "execution_count": 10,
          "metadata": {},
          "output_type": "execute_result"
        }
      ],
      "source": [
        "filtrar_por_pepa(datos, False)"
      ]
    },
    {
      "cell_type": "markdown",
      "metadata": {
        "id": "NPiiiH1etcQW"
      },
      "source": [
        "**4. La función `conteo_colores(datos)` que cree un diccionario que haga un conteo los colores de las frutas.**\n",
        "\n",
        "Para estos datos, la función debería retornar el siguiente diccionario:\n",
        "    \n",
        "```python\n",
        "{\"amarillo\": 3, \"naranjo\": 1, \"rojo\": 2}\n",
        "```"
      ]
    },
    {
      "cell_type": "code",
      "execution_count": null,
      "metadata": {
        "id": "TkdbFLfFtcQW"
      },
      "outputs": [],
      "source": [
        "def conteo_colores(datos):\n",
        "    # Documentación Aquí\n",
        "    \"\"\"\n",
        "    Summary\n",
        "    Toma una lista de frutas (cada uno un diccionario) y cuenta el numero de cada\n",
        "    caracteristica de \"Color\" respectiva a cada una de ellas, retornando el numero\n",
        "    total para cada color.\n",
        "\n",
        "    Parameters\n",
        "    ----------\n",
        "    datos: Lista, esta conformada por diccionarios. Cada elemento corresponde a\n",
        "    una fruta que posee informacion de sus respectivas caracteristicas.\n",
        "\n",
        "    Returns\n",
        "    -------\n",
        "    Retorna un diccionario con el nombre de todos los colores asociadas a todas\n",
        "    las frutas y su respectivo conteo, siendo la llave el nombre del color y el\n",
        "    valor el numero total de frutas con ese color.\n",
        "    \"\"\"\n",
        "    # Código Aquí\n",
        "    conteo = {}                #Diccionario vacio\n",
        "    for fruta in datos:\n",
        "      color = fruta[\"color\"]\n",
        "      if color in conteo:\n",
        "        conteo[color] += 1     #Se rellena diccionario\n",
        "      else:\n",
        "        conteo[color] = 1\n",
        "    return conteo"
      ]
    },
    {
      "cell_type": "code",
      "execution_count": null,
      "metadata": {
        "colab": {
          "base_uri": "https://localhost:8080/"
        },
        "id": "pwsx61EiMBEg",
        "outputId": "a5659d6d-7ca0-44a9-e3bc-a9c5fdcdd784"
      },
      "outputs": [
        {
          "data": {
            "text/plain": [
              "{'amarillo': 3, 'naranjo': 1, 'rojo': 2}"
            ]
          },
          "execution_count": 12,
          "metadata": {},
          "output_type": "execute_result"
        }
      ],
      "source": [
        "conteo_colores(datos)"
      ]
    },
    {
      "cell_type": "markdown",
      "metadata": {
        "id": "GdsClyq2tcQW"
      },
      "source": [
        "**5. La función `obtener_tipos` que devuelva una lista con los tipos únicos de fruta usando `set()`**.\n",
        "\n",
        "Por ejemplo, `obtener_tipos([limon, naranja, platano])` debería devolver `[\"citrica\", \"tropical\"]`"
      ]
    },
    {
      "cell_type": "code",
      "execution_count": null,
      "metadata": {
        "id": "uPCDxX99tcQW"
      },
      "outputs": [],
      "source": [
        "def obtener_tipos(datos):\n",
        "    # Documentación Aquí\n",
        "    \"\"\"\n",
        "    Summary\n",
        "    Toma una lista de frutas (cada uno un diccionario) y retorna todos las\n",
        "    caracteristicas asociadas al \"Tipo\" en forma de diccionario.\n",
        "\n",
        "    Parameters\n",
        "    ----------\n",
        "    datos: Lista, esta conformada por diccionarios. Cada elemento corresponde a\n",
        "    una fruta que posee informacion de sus respectivas caracteristicas.\n",
        "\n",
        "    Returns\n",
        "    -------\n",
        "    Retorna un diccionario con el nombre de todos los tipos de frutas presentes\n",
        "    en la lista ingresada, no se repiten elementos.\n",
        "    \"\"\"\n",
        "    # Código Aquí\n",
        "    tipos = set()                #Se eliminan elementos repetidos\n",
        "    for fruta in datos:\n",
        "      tipos.add(fruta[\"tipo\"])\n",
        "    return tipos"
      ]
    },
    {
      "cell_type": "markdown",
      "metadata": {
        "id": "wBS1_iQNtcQW"
      },
      "source": [
        "**6. Genere tres test para cada una de las funciones de la pregunta 5 y así comprobar que funcionan correctamente.**\n",
        "\n",
        "Se <u>sugiere</u> que se apoyen en las siguientes directrices:\n",
        "- Test para tratar resultados nulos\n",
        "- Test para un subconjunto interesante cuyo resultado no sea nulo\n",
        "- Test para todos los datos"
      ]
    },
    {
      "cell_type": "markdown",
      "metadata": {
        "id": "F2mt7aIusap8"
      },
      "source": [
        "**Ejecuten esta celda para comprobar su código:**"
      ]
    },
    {
      "cell_type": "code",
      "execution_count": null,
      "metadata": {
        "id": "c39b58c0"
      },
      "outputs": [],
      "source": [
        "# ---------------------------------------------------------------------\n",
        "# test descripciones\n",
        "\n",
        "assert describir([]) == [] # test 1\n",
        "assert describir([naranja, piña]) == ['La naranja es una fruta de tipo cítrica de color naranjo. Presenta pepas en su interior.','La piña es una fruta de tipo tropical de color amarillo. No presenta pepas en su interior.']    # test 2\n",
        "assert  describir(datos) == ['El limón es una fruta de tipo cítrica de color amarillo. Presenta pepas en su interior.',\n",
        "                            'La naranja es una fruta de tipo cítrica de color naranjo. Presenta pepas en su interior.',\n",
        "                            'El plátano es una fruta de tipo tropical de color amarillo. No presenta pepas en su interior.',\n",
        "                            'La piña es una fruta de tipo tropical de color amarillo. No presenta pepas en su interior.',\n",
        "                            'La frutilla es una fruta de tipo bosque de color rojo. Presenta pepas en su interior.',\n",
        "                            'La frambuesa es una fruta de tipo bosque de color rojo. Presenta pepas en su interior.'] #Test 3\n",
        "\n",
        "# ---------------------------------------------------------------------\n",
        "# test filtro\n",
        "\n",
        "assert filtrar_por_pepa([],True) == []  # test 1\n",
        "assert filtrar_por_pepa([],False) == []\n",
        "assert filtrar_por_pepa([naranja,limon],True) == ['naranja','limón']  # test 2\n",
        "assert filtrar_por_pepa([naranja,limon],False) == []\n",
        "assert filtrar_por_pepa(datos,True) == ['limón', 'naranja', 'frutilla', 'frambuesa'] #Test 3\n",
        "assert filtrar_por_pepa(datos,False) == ['plátano','piña'] #Test 3\n",
        "\n",
        "# ---------------------------------------------------------------------\n",
        "# test conteo\n",
        "\n",
        "assert conteo_colores([]) == {} # test 1\n",
        "assert conteo_colores([naranja,limon]) == {'naranjo':1, 'amarillo':1} # test 2\n",
        "assert conteo_colores(datos) == {'amarillo': 3, 'naranjo': 1, 'rojo': 2} # test 3\n",
        "\n",
        "# ---------------------------------------------------------------------\n",
        "# test tipos\n",
        "\n",
        "assert obtener_tipos([]) == set() # test 1\n",
        "assert obtener_tipos([limon, naranja, platano]) == {'cítrica', 'tropical'} # test 2\n",
        "assert obtener_tipos(datos) == {'bosque', 'cítrica', 'tropical'} # test 3"
      ]
    },
    {
      "cell_type": "markdown",
      "metadata": {
        "id": "B_9TyW24tcQX"
      },
      "source": [
        "**7. Programe nuevamente las funciones `describir`, `filtrar_por_pepa` y `obtener_tipos`, pero esta vez usando *comprehensions*.**\n",
        "\n",
        "*Hint: Pueden reutilizar la documentación escrita en la pregunta 5*"
      ]
    },
    {
      "cell_type": "code",
      "execution_count": null,
      "metadata": {
        "id": "pu8ScJqltcQX"
      },
      "outputs": [],
      "source": [
        "def obtener_descripciones_v2(datos):\n",
        "    # Documentación Aquí\n",
        "    # Código Aquí\n",
        "    descripciones = [generar_descripcion(fruta) for fruta in datos]\n",
        "    return descripciones\n",
        "\n",
        "def filtrar_por_pepa_v2(datos, tiene_pepas):\n",
        "    # Documentación Aquí\n",
        "    # Código Aquí\n",
        "    filtrados = [fruta[\"nombre\"] for fruta in datos if fruta[\"pepas\"] == tiene_pepas]\n",
        "    return filtrados\n",
        "\n",
        "def obtener_tipos_v2():\n",
        "    # Documentación Aquí\n",
        "    # Código Aquí\n",
        "    tipos = {fruta[\"tipo\"] for fruta in datos}\n",
        "    return tipos"
      ]
    },
    {
      "cell_type": "code",
      "execution_count": null,
      "metadata": {
        "colab": {
          "base_uri": "https://localhost:8080/"
        },
        "id": "Ox8yH_rCR0EE",
        "outputId": "96194c8a-9953-47c4-a730-90f7e068530c"
      },
      "outputs": [
        {
          "data": {
            "text/plain": [
              "['El limón es una fruta de tipo cítrica de color amarillo. Presenta pepas en su interior.',\n",
              " 'La naranja es una fruta de tipo cítrica de color naranjo. Presenta pepas en su interior.']"
            ]
          },
          "execution_count": 426,
          "metadata": {},
          "output_type": "execute_result"
        }
      ],
      "source": [
        "obtener_descripciones_v2([limon, naranja])"
      ]
    },
    {
      "cell_type": "code",
      "execution_count": null,
      "metadata": {
        "id": "v0AGdTVOxxHP"
      },
      "outputs": [],
      "source": [
        "# test descripciones v2\n",
        "assert obtener_descripciones_v2([]) == [] # test 1\n",
        "assert obtener_descripciones_v2([naranja, piña]) == ['La naranja es una fruta de tipo cítrica de color naranjo. Presenta pepas en su interior.','La piña es una fruta de tipo tropical de color amarillo. No presenta pepas en su interior.']    # test 2\n",
        "assert  obtener_descripciones_v2(datos) == ['El limón es una fruta de tipo cítrica de color amarillo. Presenta pepas en su interior.',\n",
        "                            'La naranja es una fruta de tipo cítrica de color naranjo. Presenta pepas en su interior.',\n",
        "                            'El plátano es una fruta de tipo tropical de color amarillo. No presenta pepas en su interior.',\n",
        "                            'La piña es una fruta de tipo tropical de color amarillo. No presenta pepas en su interior.',\n",
        "                            'La frutilla es una fruta de tipo bosque de color rojo. Presenta pepas en su interior.',\n",
        "                            'La frambuesa es una fruta de tipo bosque de color rojo. Presenta pepas en su interior.'] #Test 3"
      ]
    },
    {
      "cell_type": "markdown",
      "metadata": {
        "id": "492b941a"
      },
      "source": [
        "## Parte 2: Electrodomésticos [2.5 puntos]\n",
        "\n",
        "En esta parte se solicitarán un par de clases que permitirá jugar con la Programación Orientada a Objetos.\n",
        "\n",
        "<div align='center'>\n",
        "<img src='https://upload.wikimedia.org/wikipedia/commons/6/67/Breville.jpg' width=400/>\n",
        "</div>\n",
        "\n",
        "\n",
        "### Clase Electrodoméstico [0.5 puntos]\n",
        "\n",
        "Defina la clase `Electrodomestico` que implemente:\n",
        "\n",
        "\n",
        "- Un constructor que defina un atributo de instancia llamado `enchufado` que almacene valores booleanos.\n",
        "- Un método llamado `esta_enchufado(self)` que levante una excepción `Exception` y que termine con la ejecución del programa cuando el atributo enchufado sea `False`. La excepción debe levantar el mensaje `'Alerta ⚠️: El electrodoméstico no está enchufado'`\n",
        "- Un método llamado `enchufar(self)` que cambia el estado de `enchufado` a True.\n",
        "\n"
      ]
    },
    {
      "cell_type": "code",
      "execution_count": null,
      "metadata": {
        "id": "9f8aa475"
      },
      "outputs": [],
      "source": [
        "class Electrodomestico:\n",
        "  def __init__(self):\n",
        "    # Código Aquí\n",
        "    self.enchufado = False\n",
        "  def esta_enchufado(self):\n",
        "    # Código Aquí\n",
        "    if not self.enchufado:\n",
        "      raise Exception('Alerta ⚠️: El electrodoméstico no está enchufado')\n",
        "  def enchufar(self):\n",
        "    # Código Aquí\n",
        "    self.enchufado = True"
      ]
    },
    {
      "cell_type": "code",
      "execution_count": null,
      "metadata": {
        "id": "gcehRBRkD9yJ"
      },
      "outputs": [],
      "source": [
        "Probar_enchufado = Electrodomestico()\n",
        "Probar_enchufado.enchufar()"
      ]
    },
    {
      "cell_type": "code",
      "execution_count": null,
      "metadata": {
        "id": "OEph-ElDE55T"
      },
      "outputs": [],
      "source": [
        "Probar_enchufado.esta_enchufado()"
      ]
    },
    {
      "cell_type": "markdown",
      "metadata": {
        "id": "d7d477b5"
      },
      "source": [
        "### Clase Jugera [1.0 puntos]\n",
        "\n",
        "\n",
        "<div align='center'>\n",
        "<img src='https://upload.wikimedia.org/wikipedia/commons/b/bb/Liquadora_%28parts%29.JPG' width=400/>\n",
        "</div>\n",
        "\n",
        "\n",
        "Implemente la clase `Jugera` que extiende `Electrodomestico` y que implemente:\n",
        "\n",
        "\n",
        "- Un constructor que tenga una lista de ingredientes frutales (llamado `bandeja`).\n",
        "\n",
        "\n",
        "- Un método llamado `agregar_ingrediente(self, nueva_fruta)` que dado una fruta, agregue esa fruta a la `bandeja`.\n",
        "\n",
        "- Un método llamado `listar_ingredientes(self)` que imprima (con `print`) los ingredientes actuales de la `bandeja` de la siguiente forma:\n",
        "\n",
        "    `Ingredientes en la bandeja: frutilla, frambuesa, piña.`\n",
        "\n",
        "De lo contrario si no tiene ingredientes imprima:\n",
        "\n",
        "    `Bandeja vacía`\n",
        "\n",
        "\n",
        "**Hint:** Investigar el método `join` de un string para generar el string con los nombres de las frutas.\n",
        "    \n",
        "    \n",
        "    \n",
        "\n",
        "- Un método llamado `preparar_jugo(self)` que:\n",
        "    - Primero verifique que el electrodoméstico esté enchufado usando `self.esta_enchufado()`.\n",
        "    - Verifique que haya por lo menos un ingrediente en la `bandeja`. En el caso que no haya, levantar una excepción con contenido `'Error ❌: La bandeja no tiene ingredientes.'`\n",
        "    - Verifique que ninguna fruta tenga pepas. En el caso que haya alguna, imprimir (con `print`) el mensaje de advertencia `'Alerta ⚠️: El jugo puede contener restos de pepas.'`. Puede usar la función definida en la sección anterior.\n",
        "    - Genere un mensaje indicado `Jugo de {nombres de las frutas separadas por una ,} listo. 🏖️🥤 Que lo disfrutes!!! 🥤🏖️. ` (Hint: Usar nuevamente `join`).\n",
        "    - Vacie la `bandeja` (es decir, eliminar todas las frutas de la bandeja).\n",
        "    - Retorne el mensaje generado.\n"
      ]
    },
    {
      "cell_type": "code",
      "execution_count": 25,
      "metadata": {
        "id": "d9db037b"
      },
      "outputs": [],
      "source": [
        "class Jugera(Electrodomestico):\n",
        "\n",
        "    def __init__(self):\n",
        "      super().__init__()\n",
        "      self.bandeja = []\n",
        "\n",
        "      # Código Aquí\n",
        "\n",
        "    def agregar_ingrediente(self, nueva_fruta):\n",
        "        # Código Aquí\n",
        "        self.bandeja.append(nueva_fruta)\n",
        "\n",
        "    def listar_ingredientes(self):\n",
        "        # Código Aquí\n",
        "        string = 'Ingredientes en la bandeja: '\n",
        "        for i in range(len(self.bandeja)):\n",
        "          string = string + self.bandeja[i]['nombre']\n",
        "          if i == len(self.bandeja)-1:\n",
        "            string = string + \".\"\n",
        "            print(string)\n",
        "          else:\n",
        "            string = string + \", \"\n",
        "        if len(self.bandeja) == 0:\n",
        "          print('La bandeja esta vacia.')\n",
        "\n",
        "    def preparar_jugo(self):\n",
        "        # Código Aquí\n",
        "        self.esta_enchufado()\n",
        "        if len(self.bandeja) == 0:\n",
        "          raise Exception('Error ❌: La bandeja no tiene ingredientes.')\n",
        "        frutas_con_pepas = filtrar_por_pepa(datos,True)\n",
        "        for i in self.bandeja:\n",
        "          if i['nombre'] in(frutas_con_pepas):\n",
        "            print('Alerta ⚠️: El jugo puede contener restos de pepas.')\n",
        "            break\n",
        "        nombres = []\n",
        "        for i in self.bandeja:\n",
        "          nombres.append(i['nombre'])\n",
        "        mensaje = \", \".join(nombres)\n",
        "        mensaje_final = 'Jugo de '+ mensaje + ' listo. 🏖️🥤 Que lo disfrutes!!! 🥤🏖️.'\n",
        "        self.bandeja = []\n",
        "        print(mensaje_final)"
      ]
    },
    {
      "cell_type": "markdown",
      "metadata": {
        "id": "6889015a"
      },
      "source": [
        "### Interacciones\n",
        "\n",
        "Las siguientes celdas les permitirán probar las interacciones de esta clase.\n",
        "La ejecución es solo referencial y no lleva puntaje. La idea es que la utilice como guía para desarrollar la clase."
      ]
    },
    {
      "cell_type": "code",
      "execution_count": null,
      "metadata": {
        "colab": {
          "base_uri": "https://localhost:8080/"
        },
        "id": "913af660",
        "outputId": "7058bb8e-5156-4305-aac5-f72c3bada922"
      },
      "outputs": [
        {
          "name": "stdout",
          "output_type": "stream",
          "text": [
            "La bandeja esta vacia.\n"
          ]
        }
      ],
      "source": [
        "jugera = Jugera()\n",
        "\n",
        "# Como no tenemos ingredientes, listar_ingredientes deberá imprimir 'Bandeja vacía'\n",
        "jugera.listar_ingredientes()"
      ]
    },
    {
      "cell_type": "code",
      "execution_count": 26,
      "metadata": {
        "colab": {
          "base_uri": "https://localhost:8080/",
          "height": 314
        },
        "id": "9d06bf3e",
        "outputId": "6bec0523-1a55-4def-d82a-62f39aa9173f",
        "scrolled": false
      },
      "outputs": [
        {
          "output_type": "error",
          "ename": "Exception",
          "evalue": "ignored",
          "traceback": [
            "\u001b[0;31m---------------------------------------------------------------------------\u001b[0m",
            "\u001b[0;31mException\u001b[0m                                 Traceback (most recent call last)",
            "\u001b[0;32m<ipython-input-26-12a82fa67e1d>\u001b[0m in \u001b[0;36m<cell line: 2>\u001b[0;34m()\u001b[0m\n\u001b[1;32m      1\u001b[0m \u001b[0;31m# Esta celda debería levantar una excepcion indicando que no está enchufada la jugera.\u001b[0m\u001b[0;34m\u001b[0m\u001b[0;34m\u001b[0m\u001b[0m\n\u001b[0;32m----> 2\u001b[0;31m \u001b[0mjugera\u001b[0m\u001b[0;34m.\u001b[0m\u001b[0mpreparar_jugo\u001b[0m\u001b[0;34m(\u001b[0m\u001b[0;34m)\u001b[0m\u001b[0;34m\u001b[0m\u001b[0;34m\u001b[0m\u001b[0m\n\u001b[0m",
            "\u001b[0;32m<ipython-input-20-da3478748d94>\u001b[0m in \u001b[0;36mpreparar_jugo\u001b[0;34m(self)\u001b[0m\n\u001b[1;32m     28\u001b[0m         \u001b[0mself\u001b[0m\u001b[0;34m.\u001b[0m\u001b[0mesta_enchufado\u001b[0m\u001b[0;34m(\u001b[0m\u001b[0;34m)\u001b[0m\u001b[0;34m\u001b[0m\u001b[0;34m\u001b[0m\u001b[0m\n\u001b[1;32m     29\u001b[0m         \u001b[0;32mif\u001b[0m \u001b[0mlen\u001b[0m\u001b[0;34m(\u001b[0m\u001b[0mself\u001b[0m\u001b[0;34m.\u001b[0m\u001b[0mbandeja\u001b[0m\u001b[0;34m)\u001b[0m \u001b[0;34m==\u001b[0m \u001b[0;36m0\u001b[0m\u001b[0;34m:\u001b[0m\u001b[0;34m\u001b[0m\u001b[0;34m\u001b[0m\u001b[0m\n\u001b[0;32m---> 30\u001b[0;31m           \u001b[0;32mraise\u001b[0m \u001b[0mException\u001b[0m\u001b[0;34m(\u001b[0m\u001b[0;34m'Error ❌: La bandeja no tiene ingredientes.'\u001b[0m\u001b[0;34m)\u001b[0m\u001b[0;34m\u001b[0m\u001b[0;34m\u001b[0m\u001b[0m\n\u001b[0m\u001b[1;32m     31\u001b[0m         \u001b[0mfrutas_con_pepas\u001b[0m \u001b[0;34m=\u001b[0m \u001b[0mfiltrar_por_pepa\u001b[0m\u001b[0;34m(\u001b[0m\u001b[0mdatos\u001b[0m\u001b[0;34m,\u001b[0m\u001b[0;32mTrue\u001b[0m\u001b[0;34m)\u001b[0m\u001b[0;34m\u001b[0m\u001b[0;34m\u001b[0m\u001b[0m\n\u001b[1;32m     32\u001b[0m         \u001b[0;32mfor\u001b[0m \u001b[0mi\u001b[0m \u001b[0;32min\u001b[0m \u001b[0mself\u001b[0m\u001b[0;34m.\u001b[0m\u001b[0mbandeja\u001b[0m\u001b[0;34m:\u001b[0m\u001b[0;34m\u001b[0m\u001b[0;34m\u001b[0m\u001b[0m\n",
            "\u001b[0;31mException\u001b[0m: Error ❌: La bandeja no tiene ingredientes."
          ]
        }
      ],
      "source": [
        "# Esta celda debería levantar una excepcion indicando que no está enchufada la jugera.\n",
        "jugera.preparar_jugo()"
      ]
    },
    {
      "cell_type": "code",
      "execution_count": 27,
      "metadata": {
        "id": "3ad38f18"
      },
      "outputs": [],
      "source": [
        "# Enchufamos el electrodoméstico\n",
        "jugera.enchufar()"
      ]
    },
    {
      "cell_type": "code",
      "execution_count": 28,
      "metadata": {
        "colab": {
          "base_uri": "https://localhost:8080/",
          "height": 314
        },
        "id": "48009872",
        "outputId": "bee55417-a916-41b4-d15c-0f97ee6720f1",
        "scrolled": true
      },
      "outputs": [
        {
          "output_type": "error",
          "ename": "Exception",
          "evalue": "ignored",
          "traceback": [
            "\u001b[0;31m---------------------------------------------------------------------------\u001b[0m",
            "\u001b[0;31mException\u001b[0m                                 Traceback (most recent call last)",
            "\u001b[0;32m<ipython-input-28-763feb2b9970>\u001b[0m in \u001b[0;36m<cell line: 2>\u001b[0;34m()\u001b[0m\n\u001b[1;32m      1\u001b[0m \u001b[0;31m# Esta celda debería levantar ina excepción informandoles que la bandeja no tiene ingredientes.\u001b[0m\u001b[0;34m\u001b[0m\u001b[0;34m\u001b[0m\u001b[0m\n\u001b[0;32m----> 2\u001b[0;31m \u001b[0mjugera\u001b[0m\u001b[0;34m.\u001b[0m\u001b[0mpreparar_jugo\u001b[0m\u001b[0;34m(\u001b[0m\u001b[0;34m)\u001b[0m\u001b[0;34m\u001b[0m\u001b[0;34m\u001b[0m\u001b[0m\n\u001b[0m",
            "\u001b[0;32m<ipython-input-20-da3478748d94>\u001b[0m in \u001b[0;36mpreparar_jugo\u001b[0;34m(self)\u001b[0m\n\u001b[1;32m     28\u001b[0m         \u001b[0mself\u001b[0m\u001b[0;34m.\u001b[0m\u001b[0mesta_enchufado\u001b[0m\u001b[0;34m(\u001b[0m\u001b[0;34m)\u001b[0m\u001b[0;34m\u001b[0m\u001b[0;34m\u001b[0m\u001b[0m\n\u001b[1;32m     29\u001b[0m         \u001b[0;32mif\u001b[0m \u001b[0mlen\u001b[0m\u001b[0;34m(\u001b[0m\u001b[0mself\u001b[0m\u001b[0;34m.\u001b[0m\u001b[0mbandeja\u001b[0m\u001b[0;34m)\u001b[0m \u001b[0;34m==\u001b[0m \u001b[0;36m0\u001b[0m\u001b[0;34m:\u001b[0m\u001b[0;34m\u001b[0m\u001b[0;34m\u001b[0m\u001b[0m\n\u001b[0;32m---> 30\u001b[0;31m           \u001b[0;32mraise\u001b[0m \u001b[0mException\u001b[0m\u001b[0;34m(\u001b[0m\u001b[0;34m'Error ❌: La bandeja no tiene ingredientes.'\u001b[0m\u001b[0;34m)\u001b[0m\u001b[0;34m\u001b[0m\u001b[0;34m\u001b[0m\u001b[0m\n\u001b[0m\u001b[1;32m     31\u001b[0m         \u001b[0mfrutas_con_pepas\u001b[0m \u001b[0;34m=\u001b[0m \u001b[0mfiltrar_por_pepa\u001b[0m\u001b[0;34m(\u001b[0m\u001b[0mdatos\u001b[0m\u001b[0;34m,\u001b[0m\u001b[0;32mTrue\u001b[0m\u001b[0;34m)\u001b[0m\u001b[0;34m\u001b[0m\u001b[0;34m\u001b[0m\u001b[0m\n\u001b[1;32m     32\u001b[0m         \u001b[0;32mfor\u001b[0m \u001b[0mi\u001b[0m \u001b[0;32min\u001b[0m \u001b[0mself\u001b[0m\u001b[0;34m.\u001b[0m\u001b[0mbandeja\u001b[0m\u001b[0;34m:\u001b[0m\u001b[0;34m\u001b[0m\u001b[0;34m\u001b[0m\u001b[0m\n",
            "\u001b[0;31mException\u001b[0m: Error ❌: La bandeja no tiene ingredientes."
          ]
        }
      ],
      "source": [
        "# Esta celda debería levantar ina excepción informandoles que la bandeja no tiene ingredientes.\n",
        "jugera.preparar_jugo()"
      ]
    },
    {
      "cell_type": "code",
      "execution_count": 29,
      "metadata": {
        "colab": {
          "base_uri": "https://localhost:8080/"
        },
        "id": "4873e0bf",
        "outputId": "92b01eb4-ceef-4f54-8000-1c25bd12e679"
      },
      "outputs": [
        {
          "output_type": "stream",
          "name": "stdout",
          "text": [
            "Ingredientes en la bandeja: naranja, plátano.\n"
          ]
        }
      ],
      "source": [
        "# Agregamos algunos ingredientes\n",
        "jugera.agregar_ingrediente(naranja)\n",
        "jugera.agregar_ingrediente(platano)\n",
        "\n",
        "# Y los listamos (debería imprimir: 'Ingredientes en la bandeja: naranja, plátano')\n",
        "jugera.listar_ingredientes()"
      ]
    },
    {
      "cell_type": "code",
      "execution_count": 30,
      "metadata": {
        "colab": {
          "base_uri": "https://localhost:8080/"
        },
        "id": "ff555151",
        "outputId": "1fd59fe6-b02b-4a98-ee82-28707379c978"
      },
      "outputs": [
        {
          "output_type": "stream",
          "name": "stdout",
          "text": [
            "Alerta ⚠️: El jugo puede contener restos de pepas.\n",
            "Jugo de naranja, plátano listo. 🏖️🥤 Que lo disfrutes!!! 🥤🏖️.\n"
          ]
        }
      ],
      "source": [
        "# Preparamos el jugo: 'Jugo de naranja, plátano listo. 🏖️🥤 Que lo disfrutes!!! 🥤🏖️.'\n",
        "jugera.preparar_jugo()"
      ]
    },
    {
      "cell_type": "code",
      "execution_count": 31,
      "metadata": {
        "colab": {
          "base_uri": "https://localhost:8080/"
        },
        "id": "bbc532b2",
        "outputId": "7b1506f4-a021-4837-b419-bae9f4ca9dc2"
      },
      "outputs": [
        {
          "output_type": "stream",
          "name": "stdout",
          "text": [
            "La bandeja esta vacia.\n"
          ]
        }
      ],
      "source": [
        "# Una vez preparado el jugo, debería vaciarse la bandeja (imprimir Bandeja vacía)\n",
        "jugera.listar_ingredientes()"
      ]
    },
    {
      "cell_type": "markdown",
      "metadata": {
        "id": "972dbcac"
      },
      "source": [
        "### Clase Jugera + Properties  [1.0 puntos]\n",
        "\n",
        "Implementar `bandeja` usando una `property` que permita setear una `nueva_bandeja` como `bandeja` según las siguientes condiciones:\n",
        "\n",
        "\n",
        "- Compruebe que `nueva_bandeja` sea una lista. En caso contrario, levante una excepción.\n",
        "- No permita agregar más de 3 ingredientes a la bandeja a la vez. Si se entregan más de 3 frutas, se levante una excepción.\n",
        "- Se compruebe que todos los elementos de la lista sean frutas. Para esto, por cada fruta compruebe que:\n",
        "    1. La fruta sea diccionario.\n",
        "    2. El diccionario entregado tenga las llaves `nombre`, `tipo`, `color` y `pepas`."
      ]
    },
    {
      "cell_type": "code",
      "execution_count": 32,
      "metadata": {
        "id": "X3RXI9nisGfa"
      },
      "outputs": [],
      "source": [
        "class Jugera(Electrodomestico):\n",
        "\n",
        "    def __init__(self):\n",
        "        # Código Aquí\n",
        "        super().__init__()\n",
        "        self._bandeja = None\n",
        "\n",
        "    @property\n",
        "    def bandeja(self):\n",
        "        # Código Aquí\n",
        "        return self._bandeja\n",
        "\n",
        "    @bandeja.setter\n",
        "    def bandeja(self, nueva_bandeja):\n",
        "        # Código Aquí\n",
        "        diccionario_keys = ['nombre', 'tipo', 'color', 'pepas']\n",
        "        if not isinstance(nueva_bandeja,list):\n",
        "          raise Exception('Error nueva_bandeja no es una lista')\n",
        "        if len(nueva_bandeja) > 3:\n",
        "          raise Exception('Error la bandeja tiene mas de 3 ingredientes')\n",
        "        for j in nueva_bandeja:\n",
        "          if isinstance(j,dict):\n",
        "              for i in nueva_bandeja:\n",
        "                a = list(i.keys())\n",
        "                if a != diccionario_keys:\n",
        "                  raise Exception('Coloque un ingrediente que sea una fruta')\n",
        "          else:\n",
        "            raise Exception('Coloque un ingrediente que sea una fruta')\n",
        "        self._bandeja = nueva_bandeja\n",
        "\n",
        "    def agregar_ingrediente(self, nueva_fruta):\n",
        "        # Código Aquí\n",
        "        self.ingredientes.append(nueva_fruta)\n",
        "\n",
        "    def listar_ingredientes(self):\n",
        "        # Código Aquí\n",
        "        if self._bandeja == None:\n",
        "          print('La bandeja no tiene ingredientes.')\n",
        "        else:\n",
        "          string = 'Ingredientes en la bandeja: '\n",
        "          nombres = []\n",
        "          for i in self._bandeja:\n",
        "            nombres.append(i['nombre'])\n",
        "          mensaje = \", \".join(nombres)\n",
        "          mensaje_final = string + mensaje\n",
        "          print(mensaje_final)\n",
        "\n",
        "    def preparar_jugo(self):\n",
        "        # Código Aquí\n",
        "        self.esta_enchufado()\n",
        "        if self._bandeja == None:\n",
        "          raise Exception('Error ❌: La bandeja no tiene ingredientes.')\n",
        "        frutas_con_pepas = filtrar_por_pepa(datos,True)\n",
        "        for i in self._bandeja:\n",
        "          if i['nombre'] in(frutas_con_pepas):\n",
        "            print('Alerta ⚠️: El jugo puede contener restos de pepas.')\n",
        "            break\n",
        "        nombres = []\n",
        "        for i in self._bandeja:\n",
        "          nombres.append(i['nombre'])\n",
        "        mensaje = \", \".join(nombres)\n",
        "        mensaje_final = 'Jugo de '+ mensaje + ' listo. 🏖️🥤 Que lo disfrutes!!! 🥤🏖️.'\n",
        "        self._bandeja = None\n",
        "        print(mensaje_final)"
      ]
    },
    {
      "cell_type": "markdown",
      "metadata": {
        "id": "pG3HTpL3tcQb"
      },
      "source": [
        "### Interacciones\n",
        "\n",
        "Las siguientes celdas les permitirán probar las interacciones de esta clase.\n",
        "La ejecución es solo referencial y no lleva puntaje. La idea es que la utilice como guía para desarrollar la clase."
      ]
    },
    {
      "cell_type": "code",
      "execution_count": 33,
      "metadata": {
        "colab": {
          "base_uri": "https://localhost:8080/"
        },
        "id": "r4Q1lvJrtcQb",
        "outputId": "4bb5dc9c-981d-4e8a-d284-c39550800953"
      },
      "outputs": [
        {
          "output_type": "stream",
          "name": "stdout",
          "text": [
            "La bandeja no tiene ingredientes.\n"
          ]
        }
      ],
      "source": [
        "jugera_2 = Jugera()\n",
        "\n",
        "jugera_2.listar_ingredientes()"
      ]
    },
    {
      "cell_type": "code",
      "execution_count": 34,
      "metadata": {
        "colab": {
          "base_uri": "https://localhost:8080/",
          "height": 320
        },
        "id": "3YaG2iUvtcQb",
        "outputId": "682e8cb0-29e4-47d5-c06e-09ab0a912cd1"
      },
      "outputs": [
        {
          "output_type": "error",
          "ename": "Exception",
          "evalue": "ignored",
          "traceback": [
            "\u001b[0;31m---------------------------------------------------------------------------\u001b[0m",
            "\u001b[0;31mException\u001b[0m                                 Traceback (most recent call last)",
            "\u001b[0;32m<ipython-input-34-b7b38da5dd79>\u001b[0m in \u001b[0;36m<cell line: 1>\u001b[0;34m()\u001b[0m\n\u001b[0;32m----> 1\u001b[0;31m \u001b[0mjugera_2\u001b[0m\u001b[0;34m.\u001b[0m\u001b[0mpreparar_jugo\u001b[0m\u001b[0;34m(\u001b[0m\u001b[0;34m)\u001b[0m\u001b[0;34m\u001b[0m\u001b[0;34m\u001b[0m\u001b[0m\n\u001b[0m",
            "\u001b[0;32m<ipython-input-32-a32e1842c44c>\u001b[0m in \u001b[0;36mpreparar_jugo\u001b[0;34m(self)\u001b[0m\n\u001b[1;32m     48\u001b[0m     \u001b[0;32mdef\u001b[0m \u001b[0mpreparar_jugo\u001b[0m\u001b[0;34m(\u001b[0m\u001b[0mself\u001b[0m\u001b[0;34m)\u001b[0m\u001b[0;34m:\u001b[0m\u001b[0;34m\u001b[0m\u001b[0;34m\u001b[0m\u001b[0m\n\u001b[1;32m     49\u001b[0m         \u001b[0;31m# Código Aquí\u001b[0m\u001b[0;34m\u001b[0m\u001b[0;34m\u001b[0m\u001b[0m\n\u001b[0;32m---> 50\u001b[0;31m         \u001b[0mself\u001b[0m\u001b[0;34m.\u001b[0m\u001b[0mesta_enchufado\u001b[0m\u001b[0;34m(\u001b[0m\u001b[0;34m)\u001b[0m\u001b[0;34m\u001b[0m\u001b[0;34m\u001b[0m\u001b[0m\n\u001b[0m\u001b[1;32m     51\u001b[0m         \u001b[0;32mif\u001b[0m \u001b[0mself\u001b[0m\u001b[0;34m.\u001b[0m\u001b[0m_bandeja\u001b[0m \u001b[0;34m==\u001b[0m \u001b[0;32mNone\u001b[0m\u001b[0;34m:\u001b[0m\u001b[0;34m\u001b[0m\u001b[0;34m\u001b[0m\u001b[0m\n\u001b[1;32m     52\u001b[0m           \u001b[0;32mraise\u001b[0m \u001b[0mException\u001b[0m\u001b[0;34m(\u001b[0m\u001b[0;34m'Error ❌: La bandeja no tiene ingredientes.'\u001b[0m\u001b[0;34m)\u001b[0m\u001b[0;34m\u001b[0m\u001b[0;34m\u001b[0m\u001b[0m\n",
            "\u001b[0;32m<ipython-input-17-bfba099cdef5>\u001b[0m in \u001b[0;36mesta_enchufado\u001b[0;34m(self)\u001b[0m\n\u001b[1;32m      6\u001b[0m     \u001b[0;31m# Código Aquí\u001b[0m\u001b[0;34m\u001b[0m\u001b[0;34m\u001b[0m\u001b[0m\n\u001b[1;32m      7\u001b[0m     \u001b[0;32mif\u001b[0m \u001b[0;32mnot\u001b[0m \u001b[0mself\u001b[0m\u001b[0;34m.\u001b[0m\u001b[0menchufado\u001b[0m\u001b[0;34m:\u001b[0m\u001b[0;34m\u001b[0m\u001b[0;34m\u001b[0m\u001b[0m\n\u001b[0;32m----> 8\u001b[0;31m       \u001b[0;32mraise\u001b[0m \u001b[0mException\u001b[0m\u001b[0;34m(\u001b[0m\u001b[0;34m'Alerta ⚠️: El electrodoméstico no está enchufado'\u001b[0m\u001b[0;34m)\u001b[0m\u001b[0;34m\u001b[0m\u001b[0;34m\u001b[0m\u001b[0m\n\u001b[0m\u001b[1;32m      9\u001b[0m   \u001b[0;32mdef\u001b[0m \u001b[0menchufar\u001b[0m\u001b[0;34m(\u001b[0m\u001b[0mself\u001b[0m\u001b[0;34m)\u001b[0m\u001b[0;34m:\u001b[0m\u001b[0;34m\u001b[0m\u001b[0;34m\u001b[0m\u001b[0m\n\u001b[1;32m     10\u001b[0m     \u001b[0;31m# Código Aquí\u001b[0m\u001b[0;34m\u001b[0m\u001b[0;34m\u001b[0m\u001b[0m\n",
            "\u001b[0;31mException\u001b[0m: Alerta ⚠️: El electrodoméstico no está enchufado"
          ]
        }
      ],
      "source": [
        "jugera_2.preparar_jugo()"
      ]
    },
    {
      "cell_type": "code",
      "execution_count": 35,
      "metadata": {
        "id": "fUQ--L4QtcQc"
      },
      "outputs": [],
      "source": [
        "# Enchufamos el electrodoméstico\n",
        "jugera_2.enchufar()"
      ]
    },
    {
      "cell_type": "code",
      "execution_count": 36,
      "metadata": {
        "colab": {
          "base_uri": "https://localhost:8080/",
          "height": 314
        },
        "id": "grDy8JgQtcQc",
        "outputId": "8e29f4c4-6721-4b79-b798-01a30eafad2b"
      },
      "outputs": [
        {
          "output_type": "error",
          "ename": "Exception",
          "evalue": "ignored",
          "traceback": [
            "\u001b[0;31m---------------------------------------------------------------------------\u001b[0m",
            "\u001b[0;31mException\u001b[0m                                 Traceback (most recent call last)",
            "\u001b[0;32m<ipython-input-36-50e6459dff43>\u001b[0m in \u001b[0;36m<cell line: 2>\u001b[0;34m()\u001b[0m\n\u001b[1;32m      1\u001b[0m \u001b[0;31m# Esta celda debería levantar ina excepción informandoles que la bandeja no tiene ingredientes.\u001b[0m\u001b[0;34m\u001b[0m\u001b[0;34m\u001b[0m\u001b[0m\n\u001b[0;32m----> 2\u001b[0;31m \u001b[0mjugera_2\u001b[0m\u001b[0;34m.\u001b[0m\u001b[0mpreparar_jugo\u001b[0m\u001b[0;34m(\u001b[0m\u001b[0;34m)\u001b[0m\u001b[0;34m\u001b[0m\u001b[0;34m\u001b[0m\u001b[0m\n\u001b[0m",
            "\u001b[0;32m<ipython-input-32-a32e1842c44c>\u001b[0m in \u001b[0;36mpreparar_jugo\u001b[0;34m(self)\u001b[0m\n\u001b[1;32m     50\u001b[0m         \u001b[0mself\u001b[0m\u001b[0;34m.\u001b[0m\u001b[0mesta_enchufado\u001b[0m\u001b[0;34m(\u001b[0m\u001b[0;34m)\u001b[0m\u001b[0;34m\u001b[0m\u001b[0;34m\u001b[0m\u001b[0m\n\u001b[1;32m     51\u001b[0m         \u001b[0;32mif\u001b[0m \u001b[0mself\u001b[0m\u001b[0;34m.\u001b[0m\u001b[0m_bandeja\u001b[0m \u001b[0;34m==\u001b[0m \u001b[0;32mNone\u001b[0m\u001b[0;34m:\u001b[0m\u001b[0;34m\u001b[0m\u001b[0;34m\u001b[0m\u001b[0m\n\u001b[0;32m---> 52\u001b[0;31m           \u001b[0;32mraise\u001b[0m \u001b[0mException\u001b[0m\u001b[0;34m(\u001b[0m\u001b[0;34m'Error ❌: La bandeja no tiene ingredientes.'\u001b[0m\u001b[0;34m)\u001b[0m\u001b[0;34m\u001b[0m\u001b[0;34m\u001b[0m\u001b[0m\n\u001b[0m\u001b[1;32m     53\u001b[0m         \u001b[0mfrutas_con_pepas\u001b[0m \u001b[0;34m=\u001b[0m \u001b[0mfiltrar_por_pepa\u001b[0m\u001b[0;34m(\u001b[0m\u001b[0mdatos\u001b[0m\u001b[0;34m,\u001b[0m\u001b[0;32mTrue\u001b[0m\u001b[0;34m)\u001b[0m\u001b[0;34m\u001b[0m\u001b[0;34m\u001b[0m\u001b[0m\n\u001b[1;32m     54\u001b[0m         \u001b[0;32mfor\u001b[0m \u001b[0mi\u001b[0m \u001b[0;32min\u001b[0m \u001b[0mself\u001b[0m\u001b[0;34m.\u001b[0m\u001b[0m_bandeja\u001b[0m\u001b[0;34m:\u001b[0m\u001b[0;34m\u001b[0m\u001b[0;34m\u001b[0m\u001b[0m\n",
            "\u001b[0;31mException\u001b[0m: Error ❌: La bandeja no tiene ingredientes."
          ]
        }
      ],
      "source": [
        "# Esta celda debería levantar ina excepción informandoles que la bandeja no tiene ingredientes.\n",
        "jugera_2.preparar_jugo()"
      ]
    },
    {
      "cell_type": "code",
      "execution_count": 37,
      "metadata": {
        "colab": {
          "base_uri": "https://localhost:8080/",
          "height": 314
        },
        "id": "rTQ7bUw1tcQc",
        "outputId": "0c6a9c78-928d-4f81-d2d5-d105c27e14fc"
      },
      "outputs": [
        {
          "output_type": "error",
          "ename": "Exception",
          "evalue": "ignored",
          "traceback": [
            "\u001b[0;31m---------------------------------------------------------------------------\u001b[0m",
            "\u001b[0;31mException\u001b[0m                                 Traceback (most recent call last)",
            "\u001b[0;32m<ipython-input-37-a2a110761309>\u001b[0m in \u001b[0;36m<cell line: 2>\u001b[0;34m()\u001b[0m\n\u001b[1;32m      1\u001b[0m \u001b[0;31m# Agregamos algunos ingredientes (en este caso, como son más de 3, fallará)\u001b[0m\u001b[0;34m\u001b[0m\u001b[0;34m\u001b[0m\u001b[0m\n\u001b[0;32m----> 2\u001b[0;31m \u001b[0mjugera_2\u001b[0m\u001b[0;34m.\u001b[0m\u001b[0mbandeja\u001b[0m \u001b[0;34m=\u001b[0m \u001b[0;34m[\u001b[0m\u001b[0mnaranja\u001b[0m\u001b[0;34m,\u001b[0m \u001b[0mplatano\u001b[0m\u001b[0;34m,\u001b[0m \u001b[0mfrutilla\u001b[0m\u001b[0;34m,\u001b[0m \u001b[0mlimon\u001b[0m\u001b[0;34m]\u001b[0m\u001b[0;34m\u001b[0m\u001b[0;34m\u001b[0m\u001b[0m\n\u001b[0m",
            "\u001b[0;32m<ipython-input-32-a32e1842c44c>\u001b[0m in \u001b[0;36mbandeja\u001b[0;34m(self, nueva_bandeja)\u001b[0m\n\u001b[1;32m     18\u001b[0m           \u001b[0;32mraise\u001b[0m \u001b[0mException\u001b[0m\u001b[0;34m(\u001b[0m\u001b[0;34m'Error nueva_bandeja no es una lista'\u001b[0m\u001b[0;34m)\u001b[0m\u001b[0;34m\u001b[0m\u001b[0;34m\u001b[0m\u001b[0m\n\u001b[1;32m     19\u001b[0m         \u001b[0;32mif\u001b[0m \u001b[0mlen\u001b[0m\u001b[0;34m(\u001b[0m\u001b[0mnueva_bandeja\u001b[0m\u001b[0;34m)\u001b[0m \u001b[0;34m>\u001b[0m \u001b[0;36m3\u001b[0m\u001b[0;34m:\u001b[0m\u001b[0;34m\u001b[0m\u001b[0;34m\u001b[0m\u001b[0m\n\u001b[0;32m---> 20\u001b[0;31m           \u001b[0;32mraise\u001b[0m \u001b[0mException\u001b[0m\u001b[0;34m(\u001b[0m\u001b[0;34m'Error la bandeja tiene mas de 3 ingredientes'\u001b[0m\u001b[0;34m)\u001b[0m\u001b[0;34m\u001b[0m\u001b[0;34m\u001b[0m\u001b[0m\n\u001b[0m\u001b[1;32m     21\u001b[0m         \u001b[0;32mfor\u001b[0m \u001b[0mj\u001b[0m \u001b[0;32min\u001b[0m \u001b[0mnueva_bandeja\u001b[0m\u001b[0;34m:\u001b[0m\u001b[0;34m\u001b[0m\u001b[0;34m\u001b[0m\u001b[0m\n\u001b[1;32m     22\u001b[0m           \u001b[0;32mif\u001b[0m \u001b[0misinstance\u001b[0m\u001b[0;34m(\u001b[0m\u001b[0mj\u001b[0m\u001b[0;34m,\u001b[0m\u001b[0mdict\u001b[0m\u001b[0;34m)\u001b[0m\u001b[0;34m:\u001b[0m\u001b[0;34m\u001b[0m\u001b[0;34m\u001b[0m\u001b[0m\n",
            "\u001b[0;31mException\u001b[0m: Error la bandeja tiene mas de 3 ingredientes"
          ]
        }
      ],
      "source": [
        "# Agregamos algunos ingredientes (en este caso, como son más de 3, fallará)\n",
        "jugera_2.bandeja = [naranja, platano, frutilla, limon]"
      ]
    },
    {
      "cell_type": "code",
      "execution_count": 38,
      "metadata": {
        "colab": {
          "base_uri": "https://localhost:8080/",
          "height": 331
        },
        "id": "wvvdb2tqtcQc",
        "outputId": "c41e29aa-e919-4ad2-80de-7012a9cc8fdd"
      },
      "outputs": [
        {
          "output_type": "error",
          "ename": "Exception",
          "evalue": "ignored",
          "traceback": [
            "\u001b[0;31m---------------------------------------------------------------------------\u001b[0m",
            "\u001b[0;31mException\u001b[0m                                 Traceback (most recent call last)",
            "\u001b[0;32m<ipython-input-38-f082b06e4748>\u001b[0m in \u001b[0;36m<cell line: 3>\u001b[0;34m()\u001b[0m\n\u001b[1;32m      1\u001b[0m \u001b[0;31m# Agregamos algunos ingredientes\u001b[0m\u001b[0;34m\u001b[0m\u001b[0;34m\u001b[0m\u001b[0m\n\u001b[1;32m      2\u001b[0m \u001b[0;31m# (en este caso debería fallar, ya que estamos entregando un string en el primer lugar)\u001b[0m\u001b[0;34m\u001b[0m\u001b[0;34m\u001b[0m\u001b[0m\n\u001b[0;32m----> 3\u001b[0;31m \u001b[0mjugera_2\u001b[0m\u001b[0;34m.\u001b[0m\u001b[0mbandeja\u001b[0m \u001b[0;34m=\u001b[0m \u001b[0;34m[\u001b[0m\u001b[0;34m\"naranja\"\u001b[0m\u001b[0;34m,\u001b[0m \u001b[0mplatano\u001b[0m\u001b[0;34m,\u001b[0m \u001b[0mfrutilla\u001b[0m\u001b[0;34m]\u001b[0m\u001b[0;34m\u001b[0m\u001b[0;34m\u001b[0m\u001b[0m\n\u001b[0m",
            "\u001b[0;32m<ipython-input-32-a32e1842c44c>\u001b[0m in \u001b[0;36mbandeja\u001b[0;34m(self, nueva_bandeja)\u001b[0m\n\u001b[1;32m     26\u001b[0m                   \u001b[0;32mraise\u001b[0m \u001b[0mException\u001b[0m\u001b[0;34m(\u001b[0m\u001b[0;34m'Coloque un ingrediente que sea una fruta'\u001b[0m\u001b[0;34m)\u001b[0m\u001b[0;34m\u001b[0m\u001b[0;34m\u001b[0m\u001b[0m\n\u001b[1;32m     27\u001b[0m           \u001b[0;32melse\u001b[0m\u001b[0;34m:\u001b[0m\u001b[0;34m\u001b[0m\u001b[0;34m\u001b[0m\u001b[0m\n\u001b[0;32m---> 28\u001b[0;31m             \u001b[0;32mraise\u001b[0m \u001b[0mException\u001b[0m\u001b[0;34m(\u001b[0m\u001b[0;34m'Coloque un ingrediente que sea una fruta'\u001b[0m\u001b[0;34m)\u001b[0m\u001b[0;34m\u001b[0m\u001b[0;34m\u001b[0m\u001b[0m\n\u001b[0m\u001b[1;32m     29\u001b[0m         \u001b[0mself\u001b[0m\u001b[0;34m.\u001b[0m\u001b[0m_bandeja\u001b[0m \u001b[0;34m=\u001b[0m \u001b[0mnueva_bandeja\u001b[0m\u001b[0;34m\u001b[0m\u001b[0;34m\u001b[0m\u001b[0m\n\u001b[1;32m     30\u001b[0m \u001b[0;34m\u001b[0m\u001b[0m\n",
            "\u001b[0;31mException\u001b[0m: Coloque un ingrediente que sea una fruta"
          ]
        }
      ],
      "source": [
        "# Agregamos algunos ingredientes\n",
        "# (en este caso debería fallar, ya que estamos entregando un string en el primer lugar)\n",
        "jugera_2.bandeja = [\"naranja\", platano, frutilla]"
      ]
    },
    {
      "cell_type": "code",
      "execution_count": 39,
      "metadata": {
        "colab": {
          "base_uri": "https://localhost:8080/",
          "height": 331
        },
        "id": "epXbfwKQtcQc",
        "outputId": "7888e3c9-1b19-4e11-facd-788cff8b91db"
      },
      "outputs": [
        {
          "output_type": "error",
          "ename": "Exception",
          "evalue": "ignored",
          "traceback": [
            "\u001b[0;31m---------------------------------------------------------------------------\u001b[0m",
            "\u001b[0;31mException\u001b[0m                                 Traceback (most recent call last)",
            "\u001b[0;32m<ipython-input-39-781dcdfac548>\u001b[0m in \u001b[0;36m<cell line: 3>\u001b[0;34m()\u001b[0m\n\u001b[1;32m      1\u001b[0m \u001b[0;31m# Agregamos algunos ingredientes\u001b[0m\u001b[0;34m\u001b[0m\u001b[0;34m\u001b[0m\u001b[0m\n\u001b[1;32m      2\u001b[0m \u001b[0;31m# (en este caso debería fallar, ya que arándando tiene solo la llave nombre)\u001b[0m\u001b[0;34m\u001b[0m\u001b[0;34m\u001b[0m\u001b[0m\n\u001b[0;32m----> 3\u001b[0;31m \u001b[0mjugera_2\u001b[0m\u001b[0;34m.\u001b[0m\u001b[0mbandeja\u001b[0m \u001b[0;34m=\u001b[0m \u001b[0;34m[\u001b[0m\u001b[0;34m{\u001b[0m\u001b[0;34m'nombre'\u001b[0m\u001b[0;34m:\u001b[0m \u001b[0;34m'arándano'\u001b[0m\u001b[0;34m}\u001b[0m\u001b[0;34m,\u001b[0m \u001b[0mplatano\u001b[0m\u001b[0;34m,\u001b[0m \u001b[0mfrutilla\u001b[0m\u001b[0;34m]\u001b[0m\u001b[0;34m\u001b[0m\u001b[0;34m\u001b[0m\u001b[0m\n\u001b[0m",
            "\u001b[0;32m<ipython-input-32-a32e1842c44c>\u001b[0m in \u001b[0;36mbandeja\u001b[0;34m(self, nueva_bandeja)\u001b[0m\n\u001b[1;32m     24\u001b[0m                 \u001b[0ma\u001b[0m \u001b[0;34m=\u001b[0m \u001b[0mlist\u001b[0m\u001b[0;34m(\u001b[0m\u001b[0mi\u001b[0m\u001b[0;34m.\u001b[0m\u001b[0mkeys\u001b[0m\u001b[0;34m(\u001b[0m\u001b[0;34m)\u001b[0m\u001b[0;34m)\u001b[0m\u001b[0;34m\u001b[0m\u001b[0;34m\u001b[0m\u001b[0m\n\u001b[1;32m     25\u001b[0m                 \u001b[0;32mif\u001b[0m \u001b[0ma\u001b[0m \u001b[0;34m!=\u001b[0m \u001b[0mdiccionario_keys\u001b[0m\u001b[0;34m:\u001b[0m\u001b[0;34m\u001b[0m\u001b[0;34m\u001b[0m\u001b[0m\n\u001b[0;32m---> 26\u001b[0;31m                   \u001b[0;32mraise\u001b[0m \u001b[0mException\u001b[0m\u001b[0;34m(\u001b[0m\u001b[0;34m'Coloque un ingrediente que sea una fruta'\u001b[0m\u001b[0;34m)\u001b[0m\u001b[0;34m\u001b[0m\u001b[0;34m\u001b[0m\u001b[0m\n\u001b[0m\u001b[1;32m     27\u001b[0m           \u001b[0;32melse\u001b[0m\u001b[0;34m:\u001b[0m\u001b[0;34m\u001b[0m\u001b[0;34m\u001b[0m\u001b[0m\n\u001b[1;32m     28\u001b[0m             \u001b[0;32mraise\u001b[0m \u001b[0mException\u001b[0m\u001b[0;34m(\u001b[0m\u001b[0;34m'Coloque un ingrediente que sea una fruta'\u001b[0m\u001b[0;34m)\u001b[0m\u001b[0;34m\u001b[0m\u001b[0;34m\u001b[0m\u001b[0m\n",
            "\u001b[0;31mException\u001b[0m: Coloque un ingrediente que sea una fruta"
          ]
        }
      ],
      "source": [
        "# Agregamos algunos ingredientes\n",
        "# (en este caso debería fallar, ya que arándando tiene solo la llave nombre)\n",
        "jugera_2.bandeja = [{'nombre': 'arándano'}, platano, frutilla]"
      ]
    },
    {
      "cell_type": "code",
      "execution_count": 40,
      "metadata": {
        "colab": {
          "base_uri": "https://localhost:8080/"
        },
        "id": "WYJVZFkztcQd",
        "outputId": "6a4d78f8-ea24-4893-d73c-053156e02da1"
      },
      "outputs": [
        {
          "output_type": "stream",
          "name": "stdout",
          "text": [
            "Ingredientes en la bandeja: naranja, plátano, frutilla\n"
          ]
        }
      ],
      "source": [
        "# Agregamos algunos ingredientes (en este caso, como son 3, debería funcionar)\n",
        "jugera_2.bandeja = [naranja, platano, frutilla]\n",
        "\n",
        "# Y los listamos (debería imprimir: 'Ingredientes en la bandeja: naranja, plátano')\n",
        "jugera_2.listar_ingredientes()"
      ]
    },
    {
      "cell_type": "code",
      "execution_count": 41,
      "metadata": {
        "colab": {
          "base_uri": "https://localhost:8080/"
        },
        "id": "slrN4JkUtcQd",
        "outputId": "d8744714-015f-4d3c-a5e8-a369dae9d346"
      },
      "outputs": [
        {
          "output_type": "stream",
          "name": "stdout",
          "text": [
            "Alerta ⚠️: El jugo puede contener restos de pepas.\n",
            "Jugo de naranja, plátano, frutilla listo. 🏖️🥤 Que lo disfrutes!!! 🥤🏖️.\n"
          ]
        }
      ],
      "source": [
        "# Una vez preparado el jugo, imprima el contenido del jugo y si una alerta,\n",
        "# en el caso que el jugo tenga pepas.\n",
        "jugera_2.preparar_jugo()"
      ]
    },
    {
      "cell_type": "code",
      "execution_count": 42,
      "metadata": {
        "colab": {
          "base_uri": "https://localhost:8080/"
        },
        "id": "IE12C6ljtcQd",
        "outputId": "6de5cfe5-8771-40f8-8148-c6c7a39bd484"
      },
      "outputs": [
        {
          "output_type": "stream",
          "name": "stdout",
          "text": [
            "La bandeja no tiene ingredientes.\n"
          ]
        }
      ],
      "source": [
        "# Una vez preparado el jugo, debería vaciarse la bandeja (imprimir Bandeja vacía)\n",
        "jugera_2.listar_ingredientes()"
      ]
    },
    {
      "cell_type": "markdown",
      "metadata": {
        "id": "N7I03pjotcQd"
      },
      "source": [
        "## Parte 3 [1.0 puntos]"
      ]
    },
    {
      "cell_type": "markdown",
      "metadata": {
        "id": "Cqrb5ATjtcQd"
      },
      "source": [
        "Para esta última parte, deben responder las siguientes preguntas:\n",
        "\n",
        "1. ¿Qué es un virtual environment? ¿Para qué sirve? (0.25 ptos)\n",
        "\n",
        "`Escriba su respuesta acá`\n",
        "\n",
        "Un entorno virtual es un entorno Python en el que se puede crear y gestionar entornos aislados, es decir, el intérprete, las bibliotecas y los scripts instalados en él están aislados de los instalados en otros entornos virtuales, y (por defecto) cualquiera que esté instalado como parte de tu sistema operativo.\n",
        "\n",
        "La creación de un entorno virtual nos sirve cuando se trabajan diferentes proyectos de software al mismo tiempo, ya que cada uno requiere diferentes versiones y dependencias por lo que el entorno logra mantener una consistencia e independencia de cada uno.\n",
        "\n",
        "\n",
        "2. ¿Qué ventajas puede tener usar un virtual environment? Nombre y explique al menos 2. (0.25 ptos)\n",
        "\n",
        "`Escriba su respuesta acá`\n",
        "\n",
        "Seguridad:\n",
        "\n",
        "Al usar un entorno virtual, se pueden utilizar bibliotecas y dependencias sin la preocupación de que afecte el sistema global de la computadora. Si algo sale mal o se necesita eliminar un proyecto, simplemente se puede eliminar el entorno virtual asociado sin dejar rastros en el sistema operativo principal.\n",
        "\n",
        "Gestión eficiente de proyectos:\n",
        "\n",
        "Al utilizar un entorno virtual, se puede cambiar entre diferentes proyectos sin preocupación por posibles conflictos de bibliotecas o problemas de compatibilidad.\n",
        "\n",
        "\n",
        "3. Escriba el comando para crear un virtual environment usando `conda`. ¿Existen otras formas de crear un virtual environment? (0.25 ptos)\n",
        "\n",
        "`Escriba su respuesta acá`\n",
        "\n",
        "conda create --name nombre_del_entorno\n",
        "\n",
        "Existen diferentes formas de crear un entorno virtual según el lenguaje de programación que se utilice, por ejemplo si seguimos con Python se puede usar también  virtualenv o el módulo venv, mientras que los demás lenguajes tienen diferentes formas de manejar entornos virtuales\n",
        "\n",
        "\n",
        "4. ¿De qué forma podemos exportar las librerias instaladas en un virtual environment? Escriba el comando que nos permite realizar esto.  (0.25 ptos)\n",
        "\n",
        "`Escriba su respuesta acá`\n",
        "\n",
        "Para poder exportar librerías instaladas en un entorno virtual se puede generar un archivo txt que contenga los requerimientos del entorno virtual de la forma:\n",
        "\n",
        "Pip freeze > requirements.txt\n",
        "\n",
        "Dicho archivo contiene una lista de todas las librerías con las versiones necesarias para el entorno virtual y se instalan de la forma:\n",
        "\n",
        "Pip install -r requirements.txt\n"
      ]
    },
    {
      "cell_type": "markdown",
      "metadata": {
        "id": "VnxBc6FwtcQe"
      },
      "source": []
    },
    {
      "cell_type": "markdown",
      "metadata": {
        "id": "rBGSfgdktcQe"
      },
      "source": [
        "<a style='text-decoration:none;line-height:16px;display:flex;color:#5B5B62;padding:10px;justify-content:end;' href='https://deepnote.com?utm_source=created-in-deepnote-cell&projectId=87110296-876e-426f-b91d-aaf681223468' target=\"_blank\">\n",
        "<img alt='Created in deepnote.com' style='display:inline;max-height:16px;margin:0px;margin-right:7.5px;' src='data:image/svg+xml;base64,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' > </img>\n",
        "Created in <span style='font-weight:600;margin-left:4px;'>Deepnote</span></a>"
      ]
    }
  ],
  "metadata": {
    "colab": {
      "provenance": []
    },
    "deepnote": {},
    "deepnote_execution_queue": [],
    "deepnote_notebook_id": "9ab947a9e176401fb56de9443c666a4a",
    "kernelspec": {
      "display_name": "Python 3",
      "language": "python",
      "name": "python3"
    },
    "language_info": {
      "codemirror_mode": {
        "name": "ipython",
        "version": 3
      },
      "file_extension": ".py",
      "mimetype": "text/x-python",
      "name": "python",
      "nbconvert_exporter": "python",
      "pygments_lexer": "ipython3",
      "version": "3.8.3"
    }
  },
  "nbformat": 4,
  "nbformat_minor": 0
}